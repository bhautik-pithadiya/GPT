{
 "cells": [
  {
   "cell_type": "code",
   "execution_count": 3,
   "metadata": {},
   "outputs": [
    {
     "name": "stdout",
     "output_type": "stream",
     "text": [
      "cpu\n"
     ]
    }
   ],
   "source": [
    "import torch\n",
    "import torch.nn as nn\n",
    "from torch.nn import functional as F\n",
    "device = 'cuda' if torch.cuda.is_available() else 'cpu'\n",
    "print(device)\n",
    "\n",
    "block_size = 8\n",
    "batch_size = 4\n",
    "max_iters = 1000\n",
    "learning_rate = 3e-4\n",
    "eval_iters = 250"
   ]
  },
  {
   "cell_type": "code",
   "execution_count": 4,
   "metadata": {},
   "outputs": [],
   "source": [
    "with open('wizard_of_oz.txt') as file:\n",
    "    text = file.read()"
   ]
  },
  {
   "cell_type": "code",
   "execution_count": 5,
   "metadata": {},
   "outputs": [
    {
     "name": "stdout",
     "output_type": "stream",
     "text": [
      "['\\n', ' ', '!', '\"', '&', \"'\", '(', ')', '*', ',', '-', '.', '0', '1', '2', '3', '4', '5', '6', '7', '8', '9', ':', ';', '?', 'A', 'B', 'C', 'D', 'E', 'F', 'G', 'H', 'I', 'J', 'K', 'L', 'M', 'N', 'O', 'P', 'Q', 'R', 'S', 'T', 'U', 'V', 'W', 'X', 'Y', 'Z', '[', ']', '_', 'a', 'b', 'c', 'd', 'e', 'f', 'g', 'h', 'i', 'j', 'k', 'l', 'm', 'n', 'o', 'p', 'q', 'r', 's', 't', 'u', 'v', 'w', 'x', 'y', 'z']\n"
     ]
    }
   ],
   "source": [
    "chars = sorted(set(text))\n",
    "print(chars)"
   ]
  },
  {
   "cell_type": "code",
   "execution_count": 6,
   "metadata": {},
   "outputs": [],
   "source": [
    "vocab_size = len(chars)"
   ]
  },
  {
   "cell_type": "code",
   "execution_count": 7,
   "metadata": {},
   "outputs": [],
   "source": [
    "string_to_int = {ch:i for i,ch in enumerate(chars)}\n",
    "int_to_string = {i:ch for i,ch in enumerate(chars)}\n",
    "encode = lambda s : [string_to_int[c] for c in s]\n",
    "decode = lambda l : ''.join([int_to_string[i] for i in l])\n",
    "\n",
    "data = torch.tensor(encode(text),dtype=torch.long)"
   ]
  },
  {
   "cell_type": "code",
   "execution_count": 8,
   "metadata": {},
   "outputs": [
    {
     "name": "stdout",
     "output_type": "stream",
     "text": [
      "tensor([ 1,  1, 28, 39, 42, 39, 44, 32, 49,  1, 25, 38, 28,  1, 44, 32, 29,  1,\n",
      "        47, 33, 50, 25, 42, 28,  1, 33, 38,  1, 39, 50,  0,  0,  1,  1, 26, 49,\n",
      "         0,  0,  1,  1, 36, 11,  1, 30, 42, 25, 38, 35,  1, 26, 25, 45, 37,  0,\n",
      "         0,  1,  1, 25, 45, 44, 32, 39, 42,  1, 39, 30,  1, 44, 32, 29,  1, 47,\n",
      "        33, 50, 25, 42, 28,  1, 39, 30,  1, 39, 50,  9,  1, 44, 32, 29,  1, 36,\n",
      "        25, 38, 28,  1, 39, 30,  1, 39, 50,  9])\n"
     ]
    }
   ],
   "source": [
    "print(data[:100])"
   ]
  },
  {
   "cell_type": "code",
   "execution_count": 9,
   "metadata": {},
   "outputs": [
    {
     "name": "stdout",
     "output_type": "stream",
     "text": [
      "inputs\n",
      "tensor([[72, 62, 60, 67,  1, 66, 78,  1],\n",
      "        [58,  1, 56, 68, 75, 58, 71, 58],\n",
      "        [58, 66, 23,  1, 55, 74, 73,  0],\n",
      "        [ 1, 72, 54, 62, 57, 22,  0,  0],\n",
      "        [58, 72,  1, 54, 57, 75, 54, 67],\n",
      "        [54,  1, 68, 67, 56, 58,  1, 54],\n",
      "        [68, 74,  1, 66, 54, 78,  1, 54],\n",
      "        [54, 72,  1, 67, 68, 76,  1, 59]])\n",
      "targets\n",
      "tensor([[62, 60, 67,  1, 66, 78,  1, 68],\n",
      "        [ 1, 56, 68, 75, 58, 71, 58, 57],\n",
      "        [66, 23,  1, 55, 74, 73,  0, 73],\n",
      "        [72, 54, 62, 57, 22,  0,  0,  3],\n",
      "        [72,  1, 54, 57, 75, 54, 67, 56],\n",
      "        [ 1, 68, 67, 56, 58,  1, 54,  1],\n",
      "        [74,  1, 66, 54, 78,  1, 54, 72],\n",
      "        [72,  1, 67, 68, 76,  1, 59, 58]])\n"
     ]
    }
   ],
   "source": [
    "## creating Batches\n",
    "n = int(0.8*len(data))\n",
    "train_data = data[:n]\n",
    "val_data = data[n:]\n",
    "\n",
    "def get_batches(split):\n",
    "    data = train_data if split== 'train'else val_data\n",
    "    ix = torch.randint(len(data) - block_size,(block_size,))\n",
    "    x = torch.stack([data[i:i+block_size] for i in ix])\n",
    "    y = torch.stack([data[i+1:i+block_size+1] for i in ix])\n",
    "    x,y= x.to(device),y.to(device)\n",
    "    return x,y\n",
    "\n",
    "x,y = get_batches('train')\n",
    "print('inputs')\n",
    "print(x)\n",
    "print('targets')\n",
    "print(y)\n",
    "    \n",
    "    "
   ]
  },
  {
   "cell_type": "code",
   "execution_count": 10,
   "metadata": {},
   "outputs": [
    {
     "name": "stdout",
     "output_type": "stream",
     "text": [
      "\n",
      "2&B]Jhw[PK]T?xv6WDT8XSfiPoEhmW'J\"z]lOgHioY_OTJCUZM;6p8aR:[['6j;]\"I:)PV8nz;MqX6EQFgr'Gq7F;61Z:tD3iRICKnlB?DniTXE*C vnSU)3Y\n",
      "2d!pWg57laiIm1Xntg;[H254*6UsD3pXQRpmmlkMTBcY6rH&sWkUxU?1ZxL1zLtNZp&ORP[Q'4Ovj(H)P4P1RPBRpO'[4TZaHi(f4an(s-uJBp .kN[g5q\"Fwtg4et4SO.q2hy6Q (9wpMBtc:c&NO*cJR0&B7I:y74utgdmmIgFgMGknQ87FtkVUu5G-(5LAn\n",
      "?&tUSN8P\"!8\"AskX\"znq761\"EYhwSGyq_n!--\"!]AUc1G;nvpVEWk_u!!9t,zQT7MKn)J(8b;MsVhmV8x&]QJ;[Udm;(J\n",
      "S5zlBzE- f?Pd ']I?ePv;6jc1]K0W9s:rrs aR8Q7vKxLexcDtfok_5]i\"vjseP\n",
      "hBI,vN-eW!C9\n",
      "]r8r.A&1]TF\n"
     ]
    }
   ],
   "source": [
    "class BigramLanguageModel(nn.Module):\n",
    "    def __init__(self, vocab_size):\n",
    "        super().__init__()\n",
    "        self.token_embedding_table = nn.Embedding(vocab_size,vocab_size)\n",
    "    \n",
    "    def forward(self,index,targets = None):\n",
    "        logits = self.token_embedding_table(index)\n",
    "\n",
    "        if targets is None:\n",
    "            loss = None\n",
    "        else:\n",
    "            B, T, C = logits.shape  # Batch_size, Time (text sequences), Channels \n",
    "            logits = logits.view(B*T,C)\n",
    "            targets = targets.view(B*T)\n",
    "            loss = F.cross_entropy(logits,targets)\n",
    "        \n",
    "        return logits, loss\n",
    "\n",
    "    def generate(self,index,max_new_tokens):\n",
    "        # index is (B, T) array of indices in the current context\n",
    "        for _ in range(max_new_tokens):\n",
    "\n",
    "            logits, loss = self.forward(index)\n",
    "\n",
    "            logits = logits[:,-1,:]\n",
    "\n",
    "            probs = F.softmax(logits,dim=-1)\n",
    "\n",
    "            index_next = torch.multinomial(probs,num_samples=1)\n",
    "\n",
    "            index = torch.cat((index,index_next), dim = 1)\n",
    "\n",
    "        return index\n",
    "\n",
    "model = BigramLanguageModel(vocab_size)\n",
    "m = model.to(device)\n",
    "\n",
    "context = torch.zeros((1,1), dtype = torch.long, device=device)\n",
    "generated_chars = decode(m.generate(context,\n",
    "                                    max_new_tokens=500)[0].tolist())\n",
    "\n",
    "print(generated_chars)\n",
    "\n",
    "    "
   ]
  },
  {
   "cell_type": "code",
   "execution_count": 11,
   "metadata": {},
   "outputs": [],
   "source": [
    "@torch.no_grad()\n",
    "def estimate_loss():\n",
    "    out = {}\n",
    "    model.eval()\n",
    "    for split in ['train','val']:\n",
    "        losses = torch.zeros(eval_iters)\n",
    "        for k in range(eval_iters):\n",
    "            X,Y = get_batches(split)\n",
    "            logits, loss = model(X,Y)\n",
    "            losses[k] = loss.item()\n",
    "        out[split] = losses.mean()\n",
    "    model.train()\n",
    "    return out    "
   ]
  },
  {
   "cell_type": "code",
   "execution_count": 15,
   "metadata": {},
   "outputs": [
    {
     "name": "stdout",
     "output_type": "stream",
     "text": [
      "step : 0, train loss : 4.344, val loss: 4.358\n",
      "step : 250, train loss : 4.292, val loss: 4.285\n",
      "step : 500, train loss : 4.234, val loss: 4.227\n",
      "step : 750, train loss : 4.167, val loss: 4.176\n",
      "4.088095188140869\n"
     ]
    }
   ],
   "source": [
    "optimizer = torch.optim.AdamW(model.parameters(), lr = learning_rate)\n",
    "\n",
    "for iter in range(max_iters):\n",
    "    if iter % eval_iters == 0:\n",
    "        losses = estimate_loss()\n",
    "        print(f\"step : {iter}, train loss : {losses['train']:.3f}, val loss: {losses['val']:.3f}\")\n",
    "    \n",
    "    xb, yb = get_batches('train')\n",
    "\n",
    "    logits, loss = model.forward(xb,yb)\n",
    "    optimizer.zero_grad(set_to_none=True)\n",
    "    loss.backward()\n",
    "    optimizer.step()\n",
    "\n",
    "print(loss.item())\n"
   ]
  },
  {
   "cell_type": "code",
   "execution_count": 16,
   "metadata": {},
   "outputs": [
    {
     "name": "stdout",
     "output_type": "stream",
     "text": [
      "\n",
      ")ocjV,*WskXuGF51qZxXRhNqjs]2hn!!!xK'WQbtNQ&oy]K!E?8rDU&3fMKfePUu\n",
      "C'4(]I!uPyKTL[ToyLQd42 8pShBc1tc\n",
      "BtTEQR:IZ)icX(5UW[DEJOx22AI:?c4,Xuun!xL8SM .rVVlBs SN8xY87yS[95AsemyyD1\n",
      "Fw9vbEM:IdR'J(3BIGk22S]5n6 A(EP-AI!\"Yv1]L\n",
      ", hp\"Orc7my3(HUBt5n,*Fg4UrriUUKnUs&SBayRSSzmWPF:DS5-n4I!u*Y85Vp aml6DePIXLj7mY8eP4\"QWyY)C]\"Yr0?8d6D,6nmJq5;\n",
      "e.U(\n",
      "XrizyUH(3OzO9&4u\n",
      ")MGPF-hnC4)O\n",
      "tIG3Ruq3pylj;sa?7FR]ss&1Fw4Ur0\"vG4P1'bMG*bzjanvjcQCBPEEdUfAq1Y-D:IoDpVQVV*w;MQUZxi2DtxL1GIorfpn!?FX!Q1OE*4q]Mzfo6D*slyjY-hd?VVhuQg.voc4F:ig6N8rtc\n"
     ]
    }
   ],
   "source": [
    "context = torch.zeros((1,1), dtype=torch.long, device=device)\n",
    "generated_chars = decode(m.generate(context, max_new_tokens=500)[0].tolist())\n",
    "print(generated_chars)"
   ]
  },
  {
   "cell_type": "code",
   "execution_count": null,
   "metadata": {},
   "outputs": [],
   "source": []
  }
 ],
 "metadata": {
  "kernelspec": {
   "display_name": ".venv",
   "language": "python",
   "name": "python3"
  },
  "language_info": {
   "codemirror_mode": {
    "name": "ipython",
    "version": 3
   },
   "file_extension": ".py",
   "mimetype": "text/x-python",
   "name": "python",
   "nbconvert_exporter": "python",
   "pygments_lexer": "ipython3",
   "version": "3.10.0"
  }
 },
 "nbformat": 4,
 "nbformat_minor": 2
}
