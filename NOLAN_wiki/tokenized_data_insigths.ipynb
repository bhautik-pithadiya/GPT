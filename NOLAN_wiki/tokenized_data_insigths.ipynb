{
 "cells": [
  {
   "cell_type": "code",
   "execution_count": 1,
   "metadata": {},
   "outputs": [],
   "source": [
    "import pandas as pd"
   ]
  },
  {
   "cell_type": "code",
   "execution_count": 2,
   "metadata": {},
   "outputs": [],
   "source": [
    "tokenized_data = pd.read_csv('../data/tokenized_data_v1.csv')"
   ]
  },
  {
   "cell_type": "code",
   "execution_count": 5,
   "metadata": {},
   "outputs": [],
   "source": [
    "tokenized_data.drop(columns=\"Unnamed: 0\",inplace=True)"
   ]
  },
  {
   "cell_type": "code",
   "execution_count": 14,
   "metadata": {},
   "outputs": [],
   "source": [
    "tokenized_data['length'] = tokenized_data['X'].apply(lambda x : len(x.split(', ')))"
   ]
  },
  {
   "cell_type": "code",
   "execution_count": 16,
   "metadata": {},
   "outputs": [
    {
     "data": {
      "text/html": [
       "<div>\n",
       "<style scoped>\n",
       "    .dataframe tbody tr th:only-of-type {\n",
       "        vertical-align: middle;\n",
       "    }\n",
       "\n",
       "    .dataframe tbody tr th {\n",
       "        vertical-align: top;\n",
       "    }\n",
       "\n",
       "    .dataframe thead th {\n",
       "        text-align: right;\n",
       "    }\n",
       "</style>\n",
       "<table border=\"1\" class=\"dataframe\">\n",
       "  <thead>\n",
       "    <tr style=\"text-align: right;\">\n",
       "      <th></th>\n",
       "      <th>X</th>\n",
       "      <th>y</th>\n",
       "      <th>length</th>\n",
       "    </tr>\n",
       "  </thead>\n",
       "  <tbody>\n",
       "    <tr>\n",
       "      <th>0</th>\n",
       "      <td>[274, 483, 46, 5715, 293, 331, 3784, 293, 575,...</td>\n",
       "      <td>[80, 5222, 293, 331, 3784, 293, 575, 1506, 306...</td>\n",
       "      <td>287</td>\n",
       "    </tr>\n",
       "    <tr>\n",
       "      <th>1</th>\n",
       "      <td>[80, 5222, 293, 331, 3784, 293, 575, 1506, 306...</td>\n",
       "      <td>[73, 331, 3784, 293, 575, 1506, 306, 366, 582,...</td>\n",
       "      <td>286</td>\n",
       "    </tr>\n",
       "    <tr>\n",
       "      <th>2</th>\n",
       "      <td>[73, 331, 3784, 293, 575, 1506, 306, 366, 582,...</td>\n",
       "      <td>[119, 292, 3784, 293, 575, 1506, 306, 366, 582...</td>\n",
       "      <td>285</td>\n",
       "    </tr>\n",
       "    <tr>\n",
       "      <th>3</th>\n",
       "      <td>[119, 292, 3784, 293, 575, 1506, 306, 366, 582...</td>\n",
       "      <td>[3195, 344, 293, 575, 1506, 306, 366, 582, 362...</td>\n",
       "      <td>286</td>\n",
       "    </tr>\n",
       "    <tr>\n",
       "      <th>4</th>\n",
       "      <td>[3195, 344, 293, 575, 1506, 306, 366, 582, 362...</td>\n",
       "      <td>[73, 575, 1506, 306, 366, 582, 362, 310, 464, ...</td>\n",
       "      <td>287</td>\n",
       "    </tr>\n",
       "    <tr>\n",
       "      <th>...</th>\n",
       "      <td>...</td>\n",
       "      <td>...</td>\n",
       "      <td>...</td>\n",
       "    </tr>\n",
       "    <tr>\n",
       "      <th>881635</th>\n",
       "      <td>[292, 692, 283, 2025, 4239, 285, 1354, 7709, 1...</td>\n",
       "      <td>[4397, 283, 2025, 4239, 285, 1354, 7709, 1126,...</td>\n",
       "      <td>423</td>\n",
       "    </tr>\n",
       "    <tr>\n",
       "      <th>881636</th>\n",
       "      <td>[4397, 283, 2025, 4239, 285, 1354, 7709, 1126,...</td>\n",
       "      <td>[5101, 2025, 4239, 285, 1354, 7709, 1126, 260,...</td>\n",
       "      <td>424</td>\n",
       "    </tr>\n",
       "    <tr>\n",
       "      <th>881637</th>\n",
       "      <td>[5101, 2025, 4239, 285, 1354, 7709, 1126, 260,...</td>\n",
       "      <td>[101, 962, 4239, 285, 1354, 7709, 1126, 260, 9...</td>\n",
       "      <td>424</td>\n",
       "    </tr>\n",
       "    <tr>\n",
       "      <th>881638</th>\n",
       "      <td>[101, 962, 4239, 285, 1354, 7709, 1126, 260, 9...</td>\n",
       "      <td>[101, 873, 7644, 285, 1354, 7709, 1126, 260, 9...</td>\n",
       "      <td>425</td>\n",
       "    </tr>\n",
       "    <tr>\n",
       "      <th>881639</th>\n",
       "      <td>[101, 873, 7644, 285, 1354, 7709, 1126, 260, 9...</td>\n",
       "      <td>[2960, 1354, 7709, 1126, 260, 9204, 283, 5588,...</td>\n",
       "      <td>426</td>\n",
       "    </tr>\n",
       "  </tbody>\n",
       "</table>\n",
       "<p>881640 rows × 3 columns</p>\n",
       "</div>"
      ],
      "text/plain": [
       "                                                        X  \\\n",
       "0       [274, 483, 46, 5715, 293, 331, 3784, 293, 575,...   \n",
       "1       [80, 5222, 293, 331, 3784, 293, 575, 1506, 306...   \n",
       "2       [73, 331, 3784, 293, 575, 1506, 306, 366, 582,...   \n",
       "3       [119, 292, 3784, 293, 575, 1506, 306, 366, 582...   \n",
       "4       [3195, 344, 293, 575, 1506, 306, 366, 582, 362...   \n",
       "...                                                   ...   \n",
       "881635  [292, 692, 283, 2025, 4239, 285, 1354, 7709, 1...   \n",
       "881636  [4397, 283, 2025, 4239, 285, 1354, 7709, 1126,...   \n",
       "881637  [5101, 2025, 4239, 285, 1354, 7709, 1126, 260,...   \n",
       "881638  [101, 962, 4239, 285, 1354, 7709, 1126, 260, 9...   \n",
       "881639  [101, 873, 7644, 285, 1354, 7709, 1126, 260, 9...   \n",
       "\n",
       "                                                        y  length  \n",
       "0       [80, 5222, 293, 331, 3784, 293, 575, 1506, 306...     287  \n",
       "1       [73, 331, 3784, 293, 575, 1506, 306, 366, 582,...     286  \n",
       "2       [119, 292, 3784, 293, 575, 1506, 306, 366, 582...     285  \n",
       "3       [3195, 344, 293, 575, 1506, 306, 366, 582, 362...     286  \n",
       "4       [73, 575, 1506, 306, 366, 582, 362, 310, 464, ...     287  \n",
       "...                                                   ...     ...  \n",
       "881635  [4397, 283, 2025, 4239, 285, 1354, 7709, 1126,...     423  \n",
       "881636  [5101, 2025, 4239, 285, 1354, 7709, 1126, 260,...     424  \n",
       "881637  [101, 962, 4239, 285, 1354, 7709, 1126, 260, 9...     424  \n",
       "881638  [101, 873, 7644, 285, 1354, 7709, 1126, 260, 9...     425  \n",
       "881639  [2960, 1354, 7709, 1126, 260, 9204, 283, 5588,...     426  \n",
       "\n",
       "[881640 rows x 3 columns]"
      ]
     },
     "execution_count": 16,
     "metadata": {},
     "output_type": "execute_result"
    }
   ],
   "source": [
    "tokenized_data"
   ]
  },
  {
   "cell_type": "code",
   "execution_count": 17,
   "metadata": {},
   "outputs": [
    {
     "data": {
      "text/plain": [
       "697"
      ]
     },
     "execution_count": 17,
     "metadata": {},
     "output_type": "execute_result"
    }
   ],
   "source": [
    "tokenized_data['length'].max()"
   ]
  },
  {
   "cell_type": "code",
   "execution_count": null,
   "metadata": {},
   "outputs": [],
   "source": []
  }
 ],
 "metadata": {
  "kernelspec": {
   "display_name": ".venv",
   "language": "python",
   "name": "python3"
  },
  "language_info": {
   "codemirror_mode": {
    "name": "ipython",
    "version": 3
   },
   "file_extension": ".py",
   "mimetype": "text/x-python",
   "name": "python",
   "nbconvert_exporter": "python",
   "pygments_lexer": "ipython3",
   "version": "3.10.12"
  }
 },
 "nbformat": 4,
 "nbformat_minor": 2
}
