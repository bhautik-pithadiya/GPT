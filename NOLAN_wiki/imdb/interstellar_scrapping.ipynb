{
 "cells": [
  {
   "cell_type": "code",
   "execution_count": 37,
   "metadata": {},
   "outputs": [],
   "source": [
    "from selenium import webdriver\n",
    "from selenium.webdriver.common.by import By\n",
    "from selenium.webdriver.support.ui import WebDriverWait\n",
    "from selenium.webdriver.support import expected_conditions as EC\n",
    "from bs4 import BeautifulSoup\n",
    "import requests\n",
    "import time\n",
    "import pandas as pd\n",
    "\n",
    "interstellar_data = pd.DataFrame()\n",
    "# Start a WebDriver session\n",
    "driver = webdriver.Chrome()  # You'll need to download the appropriate WebDriver for your browser\n",
    "\n",
    "# Load the IMDb page with reviews\n",
    "driver.get('https://www.rottentomatoes.com/m/interstellar_2014/reviews')  # Example IMDb page URL\n",
    "\n",
    "# Simulate clicking the \"load more\" button repeatedly until it's not present\n",
    "while True:\n",
    "    try:\n",
    "        load_more_button = WebDriverWait(driver, 10).until(\n",
    "            EC.element_to_be_clickable((By.CLASS_NAME, 'load-more-container'))\n",
    "        )\n",
    "        load_more_button.click()\n",
    "        time.sleep(2)  # Add a delay to let the reviews load\n",
    "    except:\n",
    "        break\n",
    "\n",
    "# Once all reviews are loaded, extract the HTML content\n",
    "html_content = driver.page_source\n",
    "\n",
    "# Parse the HTML content with BeautifulSoup\n",
    "soup = BeautifulSoup(html_content, 'html.parser')\n",
    "\n",
    "# Find and extract the reviews\n",
    "reviews = soup.find_all('div', class_='review-row')\n",
    "for review in reviews:\n",
    "    name = review.find_all('a',class_=\"display-name\")\n",
    "    text = review.find_all('p', class_=\"review-text\")\n",
    "    data = {\n",
    "        \"Name\" : name[0].get_text().strip(),\n",
    "        \"Review\" : text[0].get_text().strip()\n",
    "    }\n",
    "    data_df = pd.DataFrame([data])\n",
    "    interstellar_data = pd.concat([interstellar_data,data_df])\n",
    "# Close the WebDriver session\n",
    "driver.quit()\n"
   ]
  },
  {
   "cell_type": "code",
   "execution_count": 4,
   "metadata": {},
   "outputs": [
    {
     "name": "stdout",
     "output_type": "stream",
     "text": [
      "The Shawshank Redemption is written and directed by Frank Darabont. It is an adaptation of the Stephen King novella Rita Hayworth and Shawshank Redemption. Starring Tim Robbins and Morgan Freeman, the film portrays the story of Andy Dufresne (Robbins), a banker who is sentenced to two life sentences at Shawshank State Prison for apparently murdering his wife and her lover. Andy finds it tough going but finds solace in the friendship he forms with fellow inmate Ellis \"Red\" Redding (Freeman). While things start to pick up when the warden finds Andy a prison job more befitting his talents as a banker. However, the arrival of another inmate is going to vastly change things for all of them.There was no fanfare or bunting put out for the release of the film back in 94, with a title that didn't give much inkling to anyone about what it was about, and with Columbia Pictures unsure how to market it, Shawshank Redemption barely registered at the box office. However, come Academy Award time the film received several nominations, and although it won none, it stirred up interest in the film for its home entertainment release. The rest, as they say, is history. For the film finally found an audience that saw the film propelled to almost mythical proportions as an endearing modern day classic. Something that has delighted its fans, whilst simultaneously baffling its detractors. One thing is for sure, though, is that which ever side of the Shawshank fence you sit on, the film continues to gather new fans and simply will never go away or loose that mythical status.It's possibly the simplicity of it all that sends some haters of the film into cinematic spasms. The implausible plot and an apparent sentimental edge that makes a nonsense of prison life, are but two chief complaints from those that dislike the film with a passion. Yet when characters are this richly drawn, and so movingly performed, it strikes me as churlish to do down a human drama that's dealing in hope, friendship and faith. The sentimental aspect is indeed there, but that acts as a counterpoint to the suffering, degradation and shattering of the soul involving our protagonist. Cosy prison life you say? No chance. The need for human connection is never more needed than during incarceration, surely? And given the quite terrific performances of Robbins (never better) & Freeman (sublimely making it easy), it's the easiest thing in the world to warm to Andy and Red.Those in support aren't faring too bad either. Bob Gunton is coiled spring smarm as Warden Norton, James Whitmore is heart achingly great as the \"Birdman Of Shawshank,\" Clancy Brown is menacing as antagonist Capt. Byron Hadley, William Sadler amusing as Heywood & Mark Rolston is impressively vile as Bogs Diamond. Then there's Roger Deakins' lush cinematography as the camera gracefully glides in and out of the prison offering almost ethereal hope to our characters (yes, they are ours). The music pings in conjunction with the emotional flow of the movie too. Thomas Newman's score is mostly piano based, dovetailing neatly with Andy's state of mind, while the excellently selected soundtrack ranges from the likes of Hank Williams to the gorgeous Le Nozze di Figaro by Mozart.If you love Shawshank then it's a love that lasts a lifetime. Every viewing brings the same array of emotions - anger - revilement - happiness - sadness - inspiration and a warmth that can reduce the most hardened into misty eyed wonderment. Above all else, though, Shawshank offers hope - not just for characters in a movie - but for a better life and a better world for all of us. 10/10.\n"
     ]
    }
   ],
   "source": [
    "for review in reviews:\n",
    "    print(review.get_text())\n",
    "    break"
   ]
  },
  {
   "cell_type": "code",
   "execution_count": 14,
   "metadata": {},
   "outputs": [],
   "source": [
    "import requests\n",
    "URL = 'https://www.rottentomatoes.com/m/interstellar_2014/reviews'\n",
    "page = requests.get(URL)\n",
    "\n",
    "# html_content = driver.page_source\n",
    "\n",
    "# Parse the HTML content with BeautifulSoup\n",
    "soup = BeautifulSoup(page.content, 'html.parser')\n",
    "\n",
    "# Find and extract the reviews\n",
    "reviews = soup.find_all('div', class_='review-row')\n"
   ]
  },
  {
   "cell_type": "code",
   "execution_count": 18,
   "metadata": {},
   "outputs": [
    {
     "name": "stdout",
     "output_type": "stream",
     "text": [
      "<div class=\"review-row\" data-qa=\"review-item\" tabindex=\"0\">\n",
      " <div class=\"review-data\">\n",
      "  <img class=\"critic-picture\" src=\"https://resizing.flixster.com/Bvkjo1_xgRtyQ_rY30Sy2MBJEOU=/fit-in/50x50/v2/http://resizing.flixster.com/B1gRUaaKkLncHb4JZbXFt_BR_Q4=/128x128/v1.YzszNjk2O2o7MTk4OTA7MjA0ODszMDA7MzAw\"/>\n",
      "  <div class=\"reviewer-name-and-publication\">\n",
      "   <a class=\"display-name\" data-qa=\"review-critic-link\" href=\"/critics/akhil-arora\">\n",
      "    Akhil Arora\n",
      "   </a>\n",
      "   <a class=\"publication\" data-qa=\"review-publication\" href=\"/critics/source/100009747\">\n",
      "    AkhilArora.com\n",
      "   </a>\n",
      "  </div>\n",
      "  <score-icon-critic-deprecated alignment=\"left\" percentage=\"hide\" size=\"small\" state=\"fresh\">\n",
      "  </score-icon-critic-deprecated>\n",
      " </div>\n",
      " <div class=\"review-text-container\">\n",
      "  <p class=\"review-text\" data-qa=\"review-quote\">\n",
      "   Humbling and epic in scope, designed and conceptualised brilliantly, but a tad too stand-off-ish emotionally. While the father-daughter dynamic works in parts, the Cooper–Brand relationship is never given the right treatment and collapses.\n",
      "  </p>\n",
      "  <p class=\"original-score-and-url\">\n",
      "   <a class=\"full-url\" href=\"https://akhilarora.com/christopher-nolan-movies-ranked/\" rel=\"nofollow noopener\" target=\"_blank\">\n",
      "    Full Review\n",
      "   </a>\n",
      "   |\n",
      "   <span data-qa=\"review-date\">\n",
      "    Oct 17, 2023\n",
      "   </span>\n",
      "  </p>\n",
      " </div>\n",
      "</div>\n",
      "\n"
     ]
    }
   ],
   "source": [
    "print(reviews[0].prettify())"
   ]
  },
  {
   "cell_type": "code",
   "execution_count": 32,
   "metadata": {},
   "outputs": [],
   "source": [
    "import pandas as pd\n",
    "data = pd.DataFrame()"
   ]
  },
  {
   "cell_type": "code",
   "execution_count": 33,
   "metadata": {},
   "outputs": [
    {
     "data": {
      "text/html": [
       "<div>\n",
       "<style scoped>\n",
       "    .dataframe tbody tr th:only-of-type {\n",
       "        vertical-align: middle;\n",
       "    }\n",
       "\n",
       "    .dataframe tbody tr th {\n",
       "        vertical-align: top;\n",
       "    }\n",
       "\n",
       "    .dataframe thead th {\n",
       "        text-align: right;\n",
       "    }\n",
       "</style>\n",
       "<table border=\"1\" class=\"dataframe\">\n",
       "  <thead>\n",
       "    <tr style=\"text-align: right;\">\n",
       "      <th></th>\n",
       "    </tr>\n",
       "  </thead>\n",
       "  <tbody>\n",
       "  </tbody>\n",
       "</table>\n",
       "</div>"
      ],
      "text/plain": [
       "Empty DataFrame\n",
       "Columns: []\n",
       "Index: []"
      ]
     },
     "execution_count": 33,
     "metadata": {},
     "output_type": "execute_result"
    }
   ],
   "source": [
    "data"
   ]
  },
  {
   "cell_type": "code",
   "execution_count": 35,
   "metadata": {},
   "outputs": [],
   "source": [
    "for review in reviews:\n",
    "    name = review.find_all('a',class_=\"display-name\")\n",
    "    text = review.find_all('p', class_=\"review-text\")\n",
    "    temp = {\n",
    "        \"Name\" : name[0].get_text().strip(),\n",
    "        \"Review\" : text[0].get_text().strip()\n",
    "    }\n",
    "    temp_df = pd.DataFrame([temp])\n",
    "    data = pd.concat([data,temp_df])"
   ]
  },
  {
   "cell_type": "code",
   "execution_count": 36,
   "metadata": {},
   "outputs": [
    {
     "data": {
      "text/html": [
       "<div>\n",
       "<style scoped>\n",
       "    .dataframe tbody tr th:only-of-type {\n",
       "        vertical-align: middle;\n",
       "    }\n",
       "\n",
       "    .dataframe tbody tr th {\n",
       "        vertical-align: top;\n",
       "    }\n",
       "\n",
       "    .dataframe thead th {\n",
       "        text-align: right;\n",
       "    }\n",
       "</style>\n",
       "<table border=\"1\" class=\"dataframe\">\n",
       "  <thead>\n",
       "    <tr style=\"text-align: right;\">\n",
       "      <th></th>\n",
       "      <th>Name</th>\n",
       "      <th>Review</th>\n",
       "    </tr>\n",
       "  </thead>\n",
       "  <tbody>\n",
       "    <tr>\n",
       "      <th>0</th>\n",
       "      <td>Akhil Arora</td>\n",
       "      <td>Humbling and epic in scope, designed and conce...</td>\n",
       "    </tr>\n",
       "    <tr>\n",
       "      <th>0</th>\n",
       "      <td>Sean Axmaker</td>\n",
       "      <td>This is a film where complex concepts of quant...</td>\n",
       "    </tr>\n",
       "    <tr>\n",
       "      <th>0</th>\n",
       "      <td>Don Shanahan</td>\n",
       "      <td>\"Interstellar\" pushes the limits for personal ...</td>\n",
       "    </tr>\n",
       "    <tr>\n",
       "      <th>0</th>\n",
       "      <td>Eddie Harrison</td>\n",
       "      <td>…uses sci-fi to go beyond into the philosophic...</td>\n",
       "    </tr>\n",
       "    <tr>\n",
       "      <th>0</th>\n",
       "      <td>Cory Woodroof</td>\n",
       "      <td>Nolan’s most openly emotional film, he fully l...</td>\n",
       "    </tr>\n",
       "  </tbody>\n",
       "</table>\n",
       "</div>"
      ],
      "text/plain": [
       "             Name                                             Review\n",
       "0     Akhil Arora  Humbling and epic in scope, designed and conce...\n",
       "0    Sean Axmaker  This is a film where complex concepts of quant...\n",
       "0    Don Shanahan  \"Interstellar\" pushes the limits for personal ...\n",
       "0  Eddie Harrison  …uses sci-fi to go beyond into the philosophic...\n",
       "0   Cory Woodroof  Nolan’s most openly emotional film, he fully l..."
      ]
     },
     "execution_count": 36,
     "metadata": {},
     "output_type": "execute_result"
    }
   ],
   "source": [
    "data.head()"
   ]
  },
  {
   "cell_type": "code",
   "execution_count": null,
   "metadata": {},
   "outputs": [],
   "source": []
  }
 ],
 "metadata": {
  "kernelspec": {
   "display_name": ".venv",
   "language": "python",
   "name": "python3"
  },
  "language_info": {
   "codemirror_mode": {
    "name": "ipython",
    "version": 3
   },
   "file_extension": ".py",
   "mimetype": "text/x-python",
   "name": "python",
   "nbconvert_exporter": "python",
   "pygments_lexer": "ipython3",
   "version": "3.10.11"
  }
 },
 "nbformat": 4,
 "nbformat_minor": 2
}
